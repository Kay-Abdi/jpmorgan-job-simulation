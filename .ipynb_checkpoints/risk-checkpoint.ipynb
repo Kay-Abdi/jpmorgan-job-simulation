{
 "cells": [
  {
   "cell_type": "code",
   "execution_count": 5,
   "id": "50413157-f136-404e-9e15-4849d79eb75f",
   "metadata": {},
   "outputs": [],
   "source": [
    "import pandas as pd\n",
    "import matplotlib.pyplot as plt\n",
    "\n",
    "import numpy as np\n"
   ]
  },
  {
   "cell_type": "code",
   "execution_count": 6,
   "id": "ab603f17-e2a4-4d03-b5e0-80c7664ec83a",
   "metadata": {},
   "outputs": [
    {
     "data": {
      "text/html": [
       "<div>\n",
       "<style scoped>\n",
       "    .dataframe tbody tr th:only-of-type {\n",
       "        vertical-align: middle;\n",
       "    }\n",
       "\n",
       "    .dataframe tbody tr th {\n",
       "        vertical-align: top;\n",
       "    }\n",
       "\n",
       "    .dataframe thead th {\n",
       "        text-align: right;\n",
       "    }\n",
       "</style>\n",
       "<table border=\"1\" class=\"dataframe\">\n",
       "  <thead>\n",
       "    <tr style=\"text-align: right;\">\n",
       "      <th></th>\n",
       "      <th>customer_id</th>\n",
       "      <th>credit_lines_outstanding</th>\n",
       "      <th>loan_amt_outstanding</th>\n",
       "      <th>total_debt_outstanding</th>\n",
       "      <th>income</th>\n",
       "      <th>years_employed</th>\n",
       "      <th>fico_score</th>\n",
       "      <th>default</th>\n",
       "    </tr>\n",
       "  </thead>\n",
       "  <tbody>\n",
       "    <tr>\n",
       "      <th>0</th>\n",
       "      <td>8153374</td>\n",
       "      <td>0</td>\n",
       "      <td>5221.545193</td>\n",
       "      <td>3915.471226</td>\n",
       "      <td>78039.38546</td>\n",
       "      <td>5</td>\n",
       "      <td>605</td>\n",
       "      <td>0</td>\n",
       "    </tr>\n",
       "    <tr>\n",
       "      <th>1</th>\n",
       "      <td>7442532</td>\n",
       "      <td>5</td>\n",
       "      <td>1958.928726</td>\n",
       "      <td>8228.752520</td>\n",
       "      <td>26648.43525</td>\n",
       "      <td>2</td>\n",
       "      <td>572</td>\n",
       "      <td>1</td>\n",
       "    </tr>\n",
       "    <tr>\n",
       "      <th>2</th>\n",
       "      <td>2256073</td>\n",
       "      <td>0</td>\n",
       "      <td>3363.009259</td>\n",
       "      <td>2027.830850</td>\n",
       "      <td>65866.71246</td>\n",
       "      <td>4</td>\n",
       "      <td>602</td>\n",
       "      <td>0</td>\n",
       "    </tr>\n",
       "    <tr>\n",
       "      <th>3</th>\n",
       "      <td>4885975</td>\n",
       "      <td>0</td>\n",
       "      <td>4766.648001</td>\n",
       "      <td>2501.730397</td>\n",
       "      <td>74356.88347</td>\n",
       "      <td>5</td>\n",
       "      <td>612</td>\n",
       "      <td>0</td>\n",
       "    </tr>\n",
       "    <tr>\n",
       "      <th>4</th>\n",
       "      <td>4700614</td>\n",
       "      <td>1</td>\n",
       "      <td>1345.827718</td>\n",
       "      <td>1768.826187</td>\n",
       "      <td>23448.32631</td>\n",
       "      <td>6</td>\n",
       "      <td>631</td>\n",
       "      <td>0</td>\n",
       "    </tr>\n",
       "  </tbody>\n",
       "</table>\n",
       "</div>"
      ],
      "text/plain": [
       "   customer_id  credit_lines_outstanding  loan_amt_outstanding  \\\n",
       "0      8153374                         0           5221.545193   \n",
       "1      7442532                         5           1958.928726   \n",
       "2      2256073                         0           3363.009259   \n",
       "3      4885975                         0           4766.648001   \n",
       "4      4700614                         1           1345.827718   \n",
       "\n",
       "   total_debt_outstanding       income  years_employed  fico_score  default  \n",
       "0             3915.471226  78039.38546               5         605        0  \n",
       "1             8228.752520  26648.43525               2         572        1  \n",
       "2             2027.830850  65866.71246               4         602        0  \n",
       "3             2501.730397  74356.88347               5         612        0  \n",
       "4             1768.826187  23448.32631               6         631        0  "
      ]
     },
     "execution_count": 6,
     "metadata": {},
     "output_type": "execute_result"
    }
   ],
   "source": [
    "df=pd.read_csv(\"Task 3 and 4_Loan_Data.csv\")\n",
    "df.head(5)"
   ]
  },
  {
   "cell_type": "code",
   "execution_count": 7,
   "id": "9589a69c-d2ed-4180-90d4-b1c32ea75cff",
   "metadata": {},
   "outputs": [],
   "source": [
    "from sklearn.linear_model import LogisticRegression\n",
    "from sklearn.model_selection import train_test_split\n",
    "from sklearn.metrics import accuracy_score"
   ]
  },
  {
   "cell_type": "code",
   "execution_count": 9,
   "id": "59871542-30f1-4179-b91d-da48eefc5d70",
   "metadata": {},
   "outputs": [
    {
     "name": "stdout",
     "output_type": "stream",
     "text": [
      "0.9965\n"
     ]
    }
   ],
   "source": [
    "def LogisticReg(df):\n",
    "    X= df[['credit_lines_outstanding','loan_amt_outstanding','total_debt_outstanding','income','years_employed','fico_score']]\n",
    "    y = df['default']\n",
    "\n",
    "    \n",
    "    X_train, X_test, y_train, y_test = train_test_split(X, y, test_size=0.20, random_state=42)\n",
    "    clf = LogisticRegression(max_iter=1000,random_state=0)\n",
    "    clf.fit(X_train,y_train)\n",
    "    accuracy= accuracy_score(y_test,clf.predict(X_test))\n",
    "    y_proba = clf.predict_proba(X_test)[:,1]\n",
    "\n",
    "    return accuracy,clf\n",
    "acc,model=LogisticReg(df)\n",
    "print(acc)\n",
    "    \n",
    "    \n"
   ]
  },
  {
   "cell_type": "code",
   "execution_count": 10,
   "id": "617c04f1-a220-4fc7-99fe-497b67ab4090",
   "metadata": {},
   "outputs": [
    {
     "name": "stdout",
     "output_type": "stream",
     "text": [
      "9.486142177115715e-14\n"
     ]
    }
   ],
   "source": [
    " def eld(customer,model,df,recover_rate = .10):\n",
    "    row = df.loc[df[\"customer_id\"] == customer]\n",
    "    ead = row[\"loan_amt_outstanding\"].values[0]\n",
    "    features = row[['credit_lines_outstanding','loan_amt_outstanding',\n",
    "                         'total_debt_outstanding','income','years_employed','fico_score']]\n",
    "    pd= model.predict_proba(features)[0,1]\n",
    "    lgd=1- recover_rate\n",
    "    el = pd*ead*lgd\n",
    "    return el\n",
    "\n",
    "ans= eld(8153374,model,df,recover_rate = .10)\n",
    "print(ans)"
   ]
  },
  {
   "cell_type": "code",
   "execution_count": 26,
   "id": "4387ae90-9070-4c98-bd38-30b63c946503",
   "metadata": {},
   "outputs": [
    {
     "name": "stdout",
     "output_type": "stream",
     "text": [
      "   customer_id  credit_lines_outstanding  loan_amt_outstanding  \\\n",
      "0      8153374                         0           5221.545193   \n",
      "1      7442532                         5           1958.928726   \n",
      "2      2256073                         0           3363.009259   \n",
      "3      4885975                         0           4766.648001   \n",
      "4      4700614                         1           1345.827718   \n",
      "\n",
      "   total_debt_outstanding       income  years_employed  fico_score  default  \n",
      "0             3915.471226  78039.38546               5         605        0  \n",
      "1             8228.752520  26648.43525               2         572        1  \n",
      "2             2027.830850  65866.71246               4         602        0  \n",
      "3             2501.730397  74356.88347               5         612        0  \n",
      "4             1768.826187  23448.32631               6         631        0  \n"
     ]
    }
   ],
   "source": [
    "def fico_bucket(df,K):\n",
    "    print(df.head(5))\n",
    "    fico_score = df[\"fico_score\"]\n",
    "    width = (850-300)/(K)\n",
    "    bound = []\n",
    "    for i in range (0,K+1):\n",
    "        bound.append(300+i*width)\n",
    "    buckets = [[] for j in range(K) ]\n",
    "    for score in fico_score:\n",
    "        idx = int((score-300)/(width))\n",
    "        rating = (K-1) - idx\n",
    "        buckets[rating].append(score)\n",
    "    return buckets    \n",
    "        \n",
    "buckets = fico_bucket(df, K=20)\n",
    "\n"
   ]
  },
  {
   "cell_type": "code",
   "execution_count": null,
   "id": "092f7c62-2ce7-40e0-b4be-010e6f743599",
   "metadata": {},
   "outputs": [],
   "source": [
    "would split the FICO score range (300–850) into 20 equal-width buckets. Equal width is simple and effective for this task, while more advanced approaches like log-likelihood could be used in a real banking \n",
    "context for greater accuracy.After assigning each score to its bucket, I would flip the labels so that higher scores correspond to lower ratings, consistent with the requirement that a lower rating means better credit."
   ]
  },
  {
   "cell_type": "code",
   "execution_count": null,
   "id": "434777a9-5a40-4ab8-8794-f1e7cee566c5",
   "metadata": {},
   "outputs": [],
   "source": []
  },
  {
   "cell_type": "code",
   "execution_count": null,
   "id": "77965c78-c1f3-46e1-b216-b886b28cc7fb",
   "metadata": {},
   "outputs": [],
   "source": []
  },
  {
   "cell_type": "code",
   "execution_count": null,
   "id": "d62f59ae-5862-4c3f-90de-4b768e1aabf0",
   "metadata": {},
   "outputs": [],
   "source": []
  }
 ],
 "metadata": {
  "kernelspec": {
   "display_name": "Python 3 (ipykernel)",
   "language": "python",
   "name": "python3"
  },
  "language_info": {
   "codemirror_mode": {
    "name": "ipython",
    "version": 3
   },
   "file_extension": ".py",
   "mimetype": "text/x-python",
   "name": "python",
   "nbconvert_exporter": "python",
   "pygments_lexer": "ipython3",
   "version": "3.11.9"
  }
 },
 "nbformat": 4,
 "nbformat_minor": 5
}

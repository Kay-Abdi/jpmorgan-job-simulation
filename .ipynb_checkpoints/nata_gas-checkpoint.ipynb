{
 "cells": [
  {
   "cell_type": "raw",
   "id": "8284f32f-139c-41af-a18b-4eddb6f1660a",
   "metadata": {},
   "source": [
    "!pip install pandas\n",
    "\n"
   ]
  },
  {
   "cell_type": "code",
   "execution_count": 11,
   "id": "34daaec7-e125-4730-b3a3-40c8d7d78aab",
   "metadata": {},
   "outputs": [],
   "source": [
    "import pandas as pd\n",
    "import matplotlib.pyplot as plt\n",
    "\n",
    "import numpy as np"
   ]
  },
  {
   "cell_type": "code",
   "execution_count": 12,
   "id": "fba13964-d7e3-4429-99ed-b02e4cbb2150",
   "metadata": {},
   "outputs": [
    {
     "data": {
      "text/html": [
       "<div>\n",
       "<style scoped>\n",
       "    .dataframe tbody tr th:only-of-type {\n",
       "        vertical-align: middle;\n",
       "    }\n",
       "\n",
       "    .dataframe tbody tr th {\n",
       "        vertical-align: top;\n",
       "    }\n",
       "\n",
       "    .dataframe thead th {\n",
       "        text-align: right;\n",
       "    }\n",
       "</style>\n",
       "<table border=\"1\" class=\"dataframe\">\n",
       "  <thead>\n",
       "    <tr style=\"text-align: right;\">\n",
       "      <th></th>\n",
       "      <th>Dates</th>\n",
       "      <th>Prices</th>\n",
       "    </tr>\n",
       "  </thead>\n",
       "  <tbody>\n",
       "    <tr>\n",
       "      <th>0</th>\n",
       "      <td>10/31/20</td>\n",
       "      <td>10.1</td>\n",
       "    </tr>\n",
       "    <tr>\n",
       "      <th>1</th>\n",
       "      <td>11/30/20</td>\n",
       "      <td>10.3</td>\n",
       "    </tr>\n",
       "    <tr>\n",
       "      <th>2</th>\n",
       "      <td>12/31/20</td>\n",
       "      <td>11.0</td>\n",
       "    </tr>\n",
       "    <tr>\n",
       "      <th>3</th>\n",
       "      <td>1/31/21</td>\n",
       "      <td>10.9</td>\n",
       "    </tr>\n",
       "    <tr>\n",
       "      <th>4</th>\n",
       "      <td>2/28/21</td>\n",
       "      <td>10.9</td>\n",
       "    </tr>\n",
       "  </tbody>\n",
       "</table>\n",
       "</div>"
      ],
      "text/plain": [
       "      Dates  Prices\n",
       "0  10/31/20    10.1\n",
       "1  11/30/20    10.3\n",
       "2  12/31/20    11.0\n",
       "3   1/31/21    10.9\n",
       "4   2/28/21    10.9"
      ]
     },
     "execution_count": 12,
     "metadata": {},
     "output_type": "execute_result"
    }
   ],
   "source": [
    "df= pd.read_csv(\"Nat_Gas.csv\")\n",
    "df.head(5)\n"
   ]
  },
  {
   "cell_type": "code",
   "execution_count": 13,
   "id": "1a79d70c-8eba-4f4a-b23f-827d1918dd73",
   "metadata": {},
   "outputs": [
    {
     "data": {
      "text/html": [
       "<div>\n",
       "<style scoped>\n",
       "    .dataframe tbody tr th:only-of-type {\n",
       "        vertical-align: middle;\n",
       "    }\n",
       "\n",
       "    .dataframe tbody tr th {\n",
       "        vertical-align: top;\n",
       "    }\n",
       "\n",
       "    .dataframe thead th {\n",
       "        text-align: right;\n",
       "    }\n",
       "</style>\n",
       "<table border=\"1\" class=\"dataframe\">\n",
       "  <thead>\n",
       "    <tr style=\"text-align: right;\">\n",
       "      <th></th>\n",
       "      <th>Dates</th>\n",
       "      <th>Prices</th>\n",
       "    </tr>\n",
       "  </thead>\n",
       "  <tbody>\n",
       "    <tr>\n",
       "      <th>43</th>\n",
       "      <td>5/31/24</td>\n",
       "      <td>11.4</td>\n",
       "    </tr>\n",
       "    <tr>\n",
       "      <th>44</th>\n",
       "      <td>6/30/24</td>\n",
       "      <td>11.5</td>\n",
       "    </tr>\n",
       "    <tr>\n",
       "      <th>45</th>\n",
       "      <td>7/31/24</td>\n",
       "      <td>11.6</td>\n",
       "    </tr>\n",
       "    <tr>\n",
       "      <th>46</th>\n",
       "      <td>8/31/24</td>\n",
       "      <td>11.5</td>\n",
       "    </tr>\n",
       "    <tr>\n",
       "      <th>47</th>\n",
       "      <td>9/30/24</td>\n",
       "      <td>11.8</td>\n",
       "    </tr>\n",
       "  </tbody>\n",
       "</table>\n",
       "</div>"
      ],
      "text/plain": [
       "      Dates  Prices\n",
       "43  5/31/24    11.4\n",
       "44  6/30/24    11.5\n",
       "45  7/31/24    11.6\n",
       "46  8/31/24    11.5\n",
       "47  9/30/24    11.8"
      ]
     },
     "execution_count": 13,
     "metadata": {},
     "output_type": "execute_result"
    }
   ],
   "source": [
    "df.tail(5)"
   ]
  },
  {
   "cell_type": "code",
   "execution_count": 14,
   "id": "622421d5-28a4-4359-a5e1-28890870fe4d",
   "metadata": {},
   "outputs": [
    {
     "data": {
      "image/png": "[encoded data removed]",
      "text/plain": [
       "<Figure size 640x480 with 1 Axes>"
      ]
     },
     "metadata": {},
     "output_type": "display_data"
    },
    {
     "name": "stdout",
     "output_type": "stream",
     "text": [
      "Dates      object\n",
      "Prices    float64\n",
      "dtype: object\n"
     ]
    }
   ],
   "source": [
    "x=df[\"Dates\"]\n",
    "y = df[\"Prices\"]\n",
    "plt.scatter(x, y)\n",
    "plt.show()\n",
    "print(df.dtypes)\n"
   ]
  },
  {
   "cell_type": "markdown",
   "id": "dc653bde-a27f-40ab-84dd-06080445069e",
   "metadata": {},
   "source": [
    "positive correlation. see that  as the months get colder the price definetly gets more expensive.\n"
   ]
  },
  {
   "cell_type": "code",
   "execution_count": 15,
   "id": "d5ab8116-f3c2-4158-91af-67d19974f314",
   "metadata": {},
   "outputs": [
    {
     "data": {
      "text/plain": [
       "<matplotlib.collections.PathCollection at 0x7f1e517c5c50>"
      ]
     },
     "execution_count": 15,
     "metadata": {},
     "output_type": "execute_result"
    },
    {
     "data": {
      "image/png": "[encoded data removed]",
      "text/plain": [
       "<Figure size 640x480 with 1 Axes>"
      ]
     },
     "metadata": {},
     "output_type": "display_data"
    }
   ],
   "source": [
    "df['Dates'] = pd.to_datetime(df['Dates'], format=\"%m/%d/%y\", errors='coerce')\n",
    "\n",
    "df['month'] = df['Dates'].dt.month\n",
    "df['year']  = df['Dates'].dt.year\n",
    "df['season_year'] = np.where(df['month'] <= 3, df['year'] - 1, df['year'])\n",
    "\n",
    "season_df = df[df['month'].isin([10, 11, 12, 1, 2, 3])]\n",
    "\n",
    "x = season_df[\"Dates\"]\n",
    "y = season_df[\"Prices\"]\n",
    "plt.scatter(x, y)\n"
   ]
  },
  {
   "cell_type": "code",
   "execution_count": 16,
   "id": "955220a8-41a8-445a-b6af-c0595dd257c0",
   "metadata": {},
   "outputs": [],
   "source": [
    "from sklearn.linear_model import LinearRegression\n",
    "from sklearn.model_selection import train_test_split\n",
    "from sklearn.metrics import mean_squared_error, r2_score"
   ]
  },
  {
   "cell_type": "code",
   "execution_count": 17,
   "id": "5ca817c8-0e67-4b7b-b8ac-f6fcb43beb4a",
   "metadata": {},
   "outputs": [
    {
     "name": "stderr",
     "output_type": "stream",
     "text": [
      "/tmp/ipykernel_437/914555860.py:7: FutureWarning: Series.view is deprecated and will be removed in a future version. Use ``astype`` as an alternative to change the dtype.\n",
      "  X = (df['Dates'].view('int64') / 1e9).to_numpy().reshape(-1, 1)\n"
     ]
    },
    {
     "data": {
      "text/plain": [
       "np.float64(11.419319973540292)"
      ]
     },
     "execution_count": 17,
     "metadata": {},
     "output_type": "execute_result"
    }
   ],
   "source": [
    "\n",
    "\n",
    "def lm(df):\n",
    "    df = df.copy()\n",
    "    df['Dates'] = pd.to_datetime(df['Dates'], format=\"%m/%d/%y\", errors='coerce')\n",
    "    df['Prices'] = pd.to_numeric(df['Prices'], errors='coerce')\n",
    "    df = df.dropna(subset=['Dates', 'Prices'])\n",
    "\n",
    "    X = (df['Dates'].view('int64') / 1e9).to_numpy().reshape(-1, 1) \n",
    "    y = df['Prices'].to_numpy()\n",
    "\n",
    "   \n",
    "    X_train,X_test,y_train,y_test=train_test_split(X,y,test_size=.2,random_state=50)\n",
    "    Lmodel=LinearRegression()\n",
    "    Lmodel.fit(X_train,y_train)\n",
    "    y_pred = Lmodel.predict(X_test)\n",
    "    mse =  mean_squared_error(y_test, y_pred)\n",
    "    r2 = r2_score(y_test, y_pred)\n",
    "    \n",
    "    return y_pred,Lmodel\n",
    "\n",
    "prediction,Lmodel = lm(df)\n",
    "    \n",
    "\n",
    "def price_estimate(Date,Lmodel):\n",
    "    Dates = pd.to_datetime(Date, format=\"%m/%d/%y\", errors='coerce')\n",
    "    x = np.array([[Dates.value / 1e9]])   \n",
    "    \n",
    "    estimate = Lmodel.predict(x)[0]\n",
    "    return estimate\n",
    "price = price_estimate(\"2/28/23\",Lmodel)\n",
    "price"
   ]
  },
  {
   "cell_type": "code",
   "execution_count": 18,
   "id": "22d5d2b2-c1bd-44d6-a677-1cb509d60184",
   "metadata": {},
   "outputs": [],
   "source": [
    "\n",
    "\n",
    "def price_contract(injection_dates,withdrawal_dates,prices,inject_rate, withdraw_rate, max_storage, storage_cost,df):\n",
    "    storage = 0\n",
    "    cashflow = 0\n",
    "    for i in df['Dates']:\n",
    "        price_rn = df[\"Prices\"].loc[df[\"Dates\"] == i].iloc[0]\n",
    "        if i in injection_dates:\n",
    "            volume=min(inject_rate,max_storage-storage)\n",
    "            storage = storage+volume\n",
    "            cashflow = cashflow-(volume*price_rn)\n",
    "        if i in withdrawal_dates:\n",
    "            volume_gone= min(withdraw_rate,storage)\n",
    "            storage= storage-volume_gone\n",
    "            cashflow= cashflow+(volume_gone*price_rn)\n",
    "        cashflow = cashflow-storage_cost\n",
    "    return cashflow\n"
   ]
  },
  {
   "cell_type": "code",
   "execution_count": 19,
   "id": "c92b795f-2fe8-44f1-823b-ca84bb6b2aa5",
   "metadata": {},
   "outputs": [
    {
     "name": "stdout",
     "output_type": "stream",
     "text": [
      "-48\n",
      "-96\n",
      "-48\n",
      "-144\n",
      "-96\n"
     ]
    }
   ],
   "source": [
    "injections = [pd.to_datetime(\"2023-06-01\"), pd.to_datetime(\"2023-07-01\")]\n",
    "withdrawals = [pd.to_datetime(\"2023-11-01\"), pd.to_datetime(\"2023-12-20\")]\n",
    "\n",
    "\n",
    "cash1 = price_contract(injections, withdrawals, 100, 50, 50, 200, 1, df)\n",
    "cash2 = price_contract(injections, withdrawals, 120, 60, 40, 180, 2, df)\n",
    "cash3 = price_contract(injections, withdrawals, 90, 40, 60, 220, 1, df)\n",
    "cash4 = price_contract(injections, withdrawals, 150, 70, 30, 250, 3, df)\n",
    "cash5 = price_contract(injections, withdrawals, 200, 100, 80, 300, 2, df)\n",
    "\n",
    "print(cash1)\n",
    "print(cash2)\n",
    "print(cash3)\n",
    "print(cash4)\n",
    "print(cash5)\n"
   ]
  },
  {
   "cell_type": "code",
   "execution_count": null,
   "id": "3fcfd6ac-8a44-4cad-90be-1073dfd3d3dd",
   "metadata": {},
   "outputs": [],
   "source": []
  }
 ],
 "metadata": {
  "kernelspec": {
   "display_name": "Python 3 (ipykernel)",
   "language": "python",
   "name": "python3"
  },
  "language_info": {
   "codemirror_mode": {
    "name": "ipython",
    "version": 3
   },
   "file_extension": ".py",
   "mimetype": "text/x-python",
   "name": "python",
   "nbconvert_exporter": "python",
   "pygments_lexer": "ipython3",
   "version": "3.11.9"
  }
 },
 "nbformat": 4,
 "nbformat_minor": 5
}
